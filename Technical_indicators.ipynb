{
  "nbformat": 4,
  "nbformat_minor": 0,
  "metadata": {
    "colab": {
      "provenance": [],
      "collapsed_sections": [],
      "authorship_tag": "ABX9TyNM2TbldRCHK7NSpTByxkmX",
      "include_colab_link": true
    },
    "kernelspec": {
      "name": "python3",
      "display_name": "Python 3"
    },
    "language_info": {
      "name": "python"
    }
  },
  "cells": [
    {
      "cell_type": "markdown",
      "metadata": {
        "id": "view-in-github",
        "colab_type": "text"
      },
      "source": [
        "<a href=\"https://colab.research.google.com/github/michaelho11/LSTM/blob/master/Technical_indicators.ipynb\" target=\"_parent\"><img src=\"https://colab.research.google.com/assets/colab-badge.svg\" alt=\"Open In Colab\"/></a>"
      ]
    },
    {
      "cell_type": "code",
      "execution_count": null,
      "metadata": {
        "id": "boFY0i1fB_iN"
      },
      "outputs": [],
      "source": [
        "def add_technical_indicators(stock_df):\n",
        "    # 1. OBV calculation\n",
        "    stock_df_copy = stock_df.copy()\n",
        "    OBV_list = [0]\n",
        "    OBV = 0\n",
        "    for i in range(1,len(stock_df)):\n",
        "        if stock_df['Adj Close'][i-1] < stock_df['Adj Close'][i]:\n",
        "            OBV = OBV + stock_df['Volume'][i]\n",
        "        elif stock_df['Adj Close'][i-1] > stock_df['Adj Close'][i]:\n",
        "            OBV = OBV - stock_df['Volume'][i]\n",
        "        OBV_list.append(OBV)    # list\n",
        "    stock_df_copy['On Balanced Volume'] = OBV_list\n",
        "\n",
        "    # 2. SMA calculation\n",
        "    closing = stock_df['Close']\n",
        "    stock_sma = pd.Series(closing).rolling(20).mean()  # Note: input pandas.core.series, but not input dataframe\n",
        "    stock_df_copy['SMA'] = stock_sma\n",
        "\n",
        "    # 3. EMA calculation\n",
        "    stock_ema = closing.ewm(span=20).mean()   # EMA = k*price_t +(1-k)price_(t-1), where k = 2/(N+1), N=span\n",
        "    stock_df_copy['EMA'] = stock_ema\n",
        "\n",
        "    # 4. Bollinger bands N=20, P=2\n",
        "    mid = pd.Series(closing).rolling(20).mean()\n",
        "    std = pd.Series(closing).rolling(20).std(ddof=0).values\n",
        "    upper = mid + std * 2\n",
        "    lower = mid - std * 2\n",
        "    stock_df_copy['BB_upper'] = upper\n",
        "    stock_df_copy['BB_lower'] = lower\n",
        "\n",
        "    return stock_df_copy"
      ]
    }
  ]
}